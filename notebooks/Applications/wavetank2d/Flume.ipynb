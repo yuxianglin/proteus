{
 "cells": [
  {
   "cell_type": "markdown",
   "metadata": {
    "slideshow": {
     "slide_type": "slide"
    }
   },
   "source": [
    "Computational Wave Flume (2D Version)\n",
    "==============================\n",
    "\n",
    "This notebook provides a numerical model of a wave tank that would look something like this schematically:\n",
    "\n",
    "![flume](flume_schematic.png)"
   ]
  },
  {
   "cell_type": "markdown",
   "metadata": {
    "slideshow": {
     "slide_type": "slide"
    }
   },
   "source": [
    "Mathematical Model\n",
    "===============\n",
    "\n",
    "To model a tank with breaking and overtopping, we solve the following air/water flow equations in 2D (a vertical slice):\n",
    "\n",
    "$$\n",
    "\\begin{eqnarray}\n",
    "\\nabla \\cdot \\left( \\epsilon \\mathbf v \\right) &=& s \\\\\n",
    "\\frac{\\partial \\left( \\epsilon \\mathbf v \\right)}{\\partial t} +\\nabla \\cdot  \\left(\\epsilon \\mathbf v \\otimes \\mathbf v\\right) -  \\nabla \\cdot \\left\\{\\epsilon \\nu_t \\left(\\nabla  \\mathbf v+\\nabla \\mathbf v^T\\right) \\right\\} + \\mathbf r + \\frac{\\epsilon \\nabla p}{\\rho} &=& 0 \\\\\n",
    "\\frac{\\partial \\phi}{\\partial t} + \\mathbf v \\cdot \\nabla \\phi &=& 0 \\\\\n",
    "\\|\\nabla \\phi\\| &=& 1 \\\\\n",
    "\\frac{\\partial \\theta}{\\partial t} + \\nabla \\cdot \\left( \\theta \\epsilon \\mathbf v \\right) &=& 0 \\\\\n",
    "H(\\phi) &=& \\theta \n",
    "\\end{eqnarray}\n",
    "$$"
   ]
  },
  {
   "cell_type": "markdown",
   "metadata": {
    "slideshow": {
     "slide_type": "slide"
    }
   },
   "source": [
    "Notes about this demo\n",
    "================\n",
    "\n",
    "- This software can be run locally on mac, windows, and linux if the Proteus stack is installed.\n",
    "- It can also be accessed from a cloud service like JupyterHub, Sage Math Cloud, Wakari, or an internal cloud server if we invest in setting one up (you are probably viewing on try.proteustoolkit.org)\n",
    "- This particular notebook can also be saved as a Python script and run on HPC machines if they have the Proteus software stack installed\n",
    "- Grid generation, specification of input parameters like waves, boundary conditions, and material properties can all be viewed, set from pre-existing definitions, or redefined in this notebook.\n",
    "- The simulation is kicked off in the notebook as a seperate thread and monitored\n",
    "- The data is archived  in XDMF, which can be opened upon completion of the simulation for post-processing, furthermore additional simulations and multiple scripted runs can be orchestrated by modifying this notebook.\n",
    "\n"
   ]
  },
  {
   "cell_type": "markdown",
   "metadata": {
    "slideshow": {
     "slide_type": "slide"
    }
   },
   "source": [
    "Parallelism \n",
    "=========\n",
    "\n",
    "- We need to use multiple processors to compute the solution efficiently in 3D and sometimes even in 2D. \n",
    "- The IPython parallel (ipyparallel) infrastructure allows us to attach to a set of \"engines\" (e.g. MPI tasks on an HPC machine) "
   ]
  },
  {
   "cell_type": "code",
   "execution_count": null,
   "metadata": {
    "collapsed": false,
    "slideshow": {
     "slide_type": "fragment"
    }
   },
   "outputs": [],
   "source": [
    "from ipyparallel import Client, error\n",
    "import os\n",
    "cluster = Client()\n",
    "view = cluster[:]\n",
    "view.apply(os.chdir, os.getcwd())\n",
    "print view"
   ]
  },
  {
   "cell_type": "markdown",
   "metadata": {
    "slideshow": {
     "slide_type": "slide"
    }
   },
   "source": [
    "IPython Parallel \"Magics\"\n",
    "====================\n",
    "\n",
    "As a first example of executing code in parallel on our, we use the cell magic `%%px` to execute some basic MPI code on every engine in our cluster. \n"
   ]
  },
  {
   "cell_type": "code",
   "execution_count": null,
   "metadata": {
    "collapsed": false,
    "slideshow": {
     "slide_type": "fragment"
    }
   },
   "outputs": [],
   "source": [
    "%%px\n",
    "from mpi4py import MPI\n",
    "mpi = MPI.COMM_WORLD\n",
    "bcast = mpi.bcast\n",
    "barrier = mpi.barrier\n",
    "rank = mpi.rank\n",
    "print \"MPI rank: %i/%i\" % (mpi.rank,mpi.size)"
   ]
  },
  {
   "cell_type": "markdown",
   "metadata": {
    "slideshow": {
     "slide_type": "slide"
    }
   },
   "source": [
    "Load Proteus\n",
    "==========\n",
    "\n",
    "Proteus is a Python package consiting of multiple modules. We are going to define a problem and run a simulation interactively, so we pull in the iproteus (interactive proteus) module to set up a basic environment."
   ]
  },
  {
   "cell_type": "markdown",
   "metadata": {
    "slideshow": {
     "slide_type": "fragment"
    }
   },
   "source": [
    "Notes:\n",
    "---------\n",
    "\n",
    "- Proteus runs with logging that records verying amounts of information by setting logLevel from 1 to 11\n",
    "- The log is stored  in a .log file, which can be downloaded\n",
    "- If Profiling.verbose is set  to True then logging will show up in certain output cells of the notebook, which is usually not what you want"
   ]
  },
  {
   "cell_type": "code",
   "execution_count": 5,
   "metadata": {
    "collapsed": false
   },
   "outputs": [],
   "source": [
    "%%px\n",
    "import sys\n",
    "import proteus\n",
    "# Required imports\n",
    "from proteus.iproteus import * \n",
    "from proteus import default_n, default_s, default_so\n",
    "Profiling.logLevel=5\n",
    "Profiling.verbose=False"
   ]
  },
  {
   "cell_type": "markdown",
   "metadata": {
    "slideshow": {
     "slide_type": "slide"
    }
   },
   "source": [
    "Define the flume geometry\n",
    "=========================\n",
    "\n",
    "We will just import a predefined geometry from `tank.py`\n"
   ]
  },
  {
   "cell_type": "code",
   "execution_count": null,
   "metadata": {
    "collapsed": false,
    "slideshow": {
     "slide_type": "fragment"
    }
   },
   "outputs": [],
   "source": [
    "%%px\n",
    "import tank\n",
    "tank"
   ]
  },
  {
   "cell_type": "code",
   "execution_count": 7,
   "metadata": {
    "collapsed": false,
    "slideshow": {
     "slide_type": "fragment"
    }
   },
   "outputs": [],
   "source": [
    "%matplotlib notebook\n",
    "from helpers import *"
   ]
  },
  {
   "cell_type": "code",
   "execution_count": null,
   "metadata": {
    "collapsed": false
   },
   "outputs": [],
   "source": [
    "%%px\n",
    "print tank.domain.vertices\n",
    "#tank.domain.vertices[1]=[0.222,0.0]\n",
    "#tank.domain.vertices[2]=[0.292,0.2]\n",
    "#tank.domain.vertices[3]=[0.316,0.2]\n",
    "#tank.domain.vertices[4]=[0.386,0.0]\n",
    "name=tank.domain.polyfile\n",
    "tank.domain.polyfile=None\n",
    "tank.domain.writePoly(name)"
   ]
  },
  {
   "cell_type": "code",
   "execution_count": null,
   "metadata": {
    "collapsed": false,
    "scrolled": false,
    "slideshow": {
     "slide_type": "slide"
    }
   },
   "outputs": [],
   "source": [
    "from helpers import *\n",
    "plot_domain(view['tank.domain'][0])"
   ]
  },
  {
   "cell_type": "markdown",
   "metadata": {},
   "source": [
    "# Define the initial free surface\n",
    "\n",
    "Provide a function that gives the signed distance to the air/water interface"
   ]
  },
  {
   "cell_type": "code",
   "execution_count": null,
   "metadata": {
    "collapsed": true
   },
   "outputs": [],
   "source": [
    "%%px\n",
    "#def newSignedDistance(x):\n",
    "#    return (x[0]**2 + x[1]**2)**(0.5) - 0.2\n",
    "#tank.signedDistance = newSignedDistance"
   ]
  },
  {
   "cell_type": "code",
   "execution_count": null,
   "metadata": {
    "collapsed": false
   },
   "outputs": [],
   "source": [
    "import numpy as np\n",
    "domain = view['tank.domain'][0]\n",
    "sdf = view['tank.signedDistance'][0]\n",
    "xg = np.linspace(0, domain.L[0], 20)\n",
    "yg = np.linspace(0, domain.L[1], 20)\n",
    "xi, yi = np.meshgrid(xg,yg)\n",
    "fig = plt.figure()\n",
    "phi = np.zeros(xi.shape)\n",
    "for i in range(20):\n",
    "    for  j in range(20):\n",
    "        phi[i,j]  = sdf([xg[j],yg[i]])\n",
    "plt.contourf(xg,yg,phi)\n",
    "plt.colorbar()\n",
    "plt.contour(xg,yg,phi,levels=[0],linewidths=[5], colors='k')\n",
    "plt.title('Initial SDF')"
   ]
  },
  {
   "cell_type": "markdown",
   "metadata": {
    "slideshow": {
     "slide_type": "slide"
    }
   },
   "source": [
    "Physics and Numerics\n",
    "=================\n",
    "\n",
    "Load the modules the define the equations to be solved and the numerical methods to use."
   ]
  },
  {
   "cell_type": "code",
   "execution_count": null,
   "metadata": {
    "collapsed": false,
    "slideshow": {
     "slide_type": "fragment"
    }
   },
   "outputs": [],
   "source": [
    "%%px\n",
    "import tank_so\n",
    "from proteus import Comm\n",
    "from petsc4py import PETSc\n",
    "\n",
    "#mesh refinment\n",
    "tank.he = 0.00621276595745\n",
    "#tank.he = 0.00310638297872\n",
    "tank.triangleOptions=\"VApq30Dena%8.8f\" % ((tank.he**2)/2.0,)\n",
    "#\n",
    "so = tank_so\n",
    "so.tnList = so.tnList\n",
    "pList=[]\n",
    "nList=[]\n",
    "so.sList=[]\n",
    "OptDB = PETSc.Options()\n",
    "for (p,n) in so.pnList:\n",
    "    so.sList.append(default_s)\n",
    "    pList.append(__import__(p))\n",
    "    reload(pList[-1])\n",
    "    nList.append(__import__(n))\n",
    "    reload(nList[-1])\n",
    "    pList[-1].name = p\n",
    "    nList[-1].multilevelLinearSolver = default_n.KSP_petsc4py\n",
    "    nList[-1].levelLinearSolver = default_n.KSP_petsc4py\n",
    "    OptDB.setValue(nList[-1].linear_solver_options_prefix+\"ksp_type\", \"preonly\")\n",
    "    OptDB.setValue(nList[-1].linear_solver_options_prefix+\"pc_type\", \"lu\")\n",
    "    OptDB.setValue(nList[-1].linear_solver_options_prefix+\"pc_factor_mat_solver_package\",\"superlu_dist\")\n",
    "opts.save_dof = True\n",
    "opts.dataDir='.'\n",
    "opts.probDir='.'\n",
    "opts.logLevel=7\n",
    "opts.verbose=True"
   ]
  },
  {
   "cell_type": "markdown",
   "metadata": {
    "slideshow": {
     "slide_type": "slide"
    }
   },
   "source": [
    "Numerical Solution Object\n",
    "====================\n",
    "\n",
    "No we create an the numerical wavetank object and set it up to run in a thread on each engine."
   ]
  },
  {
   "cell_type": "code",
   "execution_count": null,
   "metadata": {
    "collapsed": false,
    "slideshow": {
     "slide_type": "fragment"
    }
   },
   "outputs": [],
   "source": [
    "%%px\n",
    "ns = NumericalSolution.NS_base(so, pList, nList, so.sList, opts)"
   ]
  },
  {
   "cell_type": "code",
   "execution_count": null,
   "metadata": {
    "collapsed": false,
    "slideshow": {
     "slide_type": "slide"
    }
   },
   "outputs": [],
   "source": [
    "%%px --noblock\n",
    "from threading import Thread\n",
    "# Create a thread wrapper for the simulation.  The target must be an argument-less\n",
    "# function so we wrap the call to `calculateSolution` in a simple lambda:\n",
    "simulation_thread = Thread(target = lambda : ns.calculateSolution('run1'))"
   ]
  },
  {
   "cell_type": "markdown",
   "metadata": {},
   "source": [
    "# Some plotting and monitoring utilities"
   ]
  },
  {
   "cell_type": "code",
   "execution_count": null,
   "metadata": {
    "collapsed": false
   },
   "outputs": [],
   "source": [
    "def plot_current_results():\n",
    "    \"\"\"Makes a blocking call to retrieve remote data and displays the solution mesh\n",
    "    as a contour plot.\n",
    "    \n",
    "    Parameters\n",
    "    ----------\n",
    "    in_place : bool\n",
    "        By default it calls clear_output so that new plots replace old ones.  Set\n",
    "        to False to allow keeping of all previous outputs.\n",
    "    \"\"\"\n",
    "    import numpy as np\n",
    "    global nn,x,y,u,triangles\n",
    "    plt.clf()\n",
    "    # We make a blocking call to load the remote data from the simulation into simple named \n",
    "    # variables we can read from the engine namespaces\n",
    "    #load_simulation_globals()\n",
    "    view.apply_sync(load_simulation_globals)\n",
    "    # And now we can use the view to read these variables from all the engines.  Then we\n",
    "    # concatenate all of them into single arrays for local plotting\n",
    "    x = np.concatenate(view['x'])\n",
    "    y = np.concatenate(view['y'])\n",
    "    u = np.concatenate(view['u'])\n",
    "    shifts = np.cumsum([0]+view['nn'][:-1])\n",
    "    flat_triangles = np.concatenate([ tri + shift for tri,shift in zip(view['triangles'], shifts) ])\n",
    "    #flat_triangles=triangles\n",
    "    # We can now call the matplotlib plotting function we need\n",
    "    plt.tricontourf(x, y, flat_triangles, u)\n",
    "    fig.canvas.draw()\n",
    "    return plt\n",
    "\n",
    "def load_simulation_globals():\n",
    "    \"\"\"Put some variables we need in engine namespace.\n",
    "\n",
    "    These can then be retrieved by clients for inspection, visualization, etc.\n",
    "    \"\"\"\n",
    "    global nn, x, y, u, triangles\n",
    "    model = ns.modelList[1].levelModelList[-1]\n",
    "    nodes = model.mesh.nodeArray\n",
    "    triangles = model.mesh.elementNodesArray\n",
    "    x = nodes[:,0]\n",
    "    y = nodes[:,1]\n",
    "    u = model.u[0].dof_last\n",
    "    nn = len(x)\n",
    "    \n",
    "def simulation_alive():\n",
    "    \"\"\"Return True if the simulation thread is still running on any engine.\n",
    "    \"\"\"\n",
    "    #return simulation_thread.is_alive()\n",
    "    return any(view.apply_sync(lambda : simulation_thread.is_alive()))\n",
    "\n",
    "def monitor_simulation(refresh=5.0):\n",
    "    \"\"\"Monitor the simulation progress and call plotting routine.\n",
    "\n",
    "    Supress KeyboardInterrupt exception if interrupted, ensure that the last \n",
    "    figure is always displayed and provide basic timing and simulation status.\n",
    "\n",
    "    Parameters\n",
    "    ----------\n",
    "    refresh : float\n",
    "      Refresh interval between calls to retrieve and plot data.  The default\n",
    "      is 5s, adjust depending on the desired refresh rate, but be aware that \n",
    "      very short intervals will start having a significant impact.\n",
    "\n",
    "    \"\"\"\n",
    "    import datetime as dt, time\n",
    "    if not simulation_alive():\n",
    "        plot_current_results(view)\n",
    "        print 'Simulation has already finished, no monitoring to do.'\n",
    "        return\n",
    "    \n",
    "    t0 = dt.datetime.now()\n",
    "    fig = None\n",
    "    try:\n",
    "        while simulation_alive():\n",
    "            plot_current_results()\n",
    "            time.sleep(refresh) # so we don't hammer the server too fast\n",
    "    except (KeyboardInterrupt):#, error.TimeoutError):\n",
    "        msg = 'Monitoring interrupted, simulation is ongoing!'\n",
    "    else:\n",
    "        msg = 'Simulation completed!'\n",
    "    tmon = dt.datetime.now() - t0\n",
    "    print msg\n",
    "    print 'Monitored for: %s.' % tmon"
   ]
  },
  {
   "cell_type": "markdown",
   "metadata": {
    "slideshow": {
     "slide_type": "slide"
    }
   },
   "source": [
    "Run the tank\n",
    "=========="
   ]
  },
  {
   "cell_type": "code",
   "execution_count": null,
   "metadata": {
    "collapsed": false,
    "slideshow": {
     "slide_type": "fragment"
    }
   },
   "outputs": [],
   "source": [
    "%px simulation_thread.start()"
   ]
  },
  {
   "cell_type": "code",
   "execution_count": null,
   "metadata": {
    "collapsed": false,
    "slideshow": {
     "slide_type": "fragment"
    }
   },
   "outputs": [],
   "source": [
    "fig = plt.figure()\n",
    "monitor_simulation(refresh=5.0)"
   ]
  },
  {
   "cell_type": "markdown",
   "metadata": {
    "slideshow": {
     "slide_type": "slide"
    }
   },
   "source": [
    "Post-process the numerical solution\n",
    "=========================="
   ]
  },
  {
   "cell_type": "code",
   "execution_count": null,
   "metadata": {
    "collapsed": false,
    "slideshow": {
     "slide_type": "fragment"
    }
   },
   "outputs": [],
   "source": [
    "from tables import  openFile\n",
    "archive = openFile('tank_p.h5','r')"
   ]
  },
  {
   "cell_type": "code",
   "execution_count": null,
   "metadata": {
    "collapsed": false,
    "slideshow": {
     "slide_type": "slide"
    }
   },
   "outputs": [],
   "source": [
    "import numpy as  np\n",
    "x = np.concatenate(view['x'])\n",
    "y = np.concatenate(view['y'])\n",
    "shifts = np.cumsum([0]+view['nn'][:-1])\n",
    "flat_triangles = np.concatenate([ tri + shift for tri,shift in zip(view['triangles'], shifts) ])\n",
    "plt.figure()\n",
    "plt.triplot(x,y,flat_triangles)"
   ]
  },
  {
   "cell_type": "code",
   "execution_count": null,
   "metadata": {
    "collapsed": false
   },
   "outputs": [],
   "source": [
    "!rm phi*png"
   ]
  },
  {
   "cell_type": "code",
   "execution_count": null,
   "metadata": {
    "collapsed": false,
    "scrolled": false,
    "slideshow": {
     "slide_type": "slide"
    }
   },
   "outputs": [],
   "source": [
    "import matplotlib.tri as mtri\n",
    "domain = view['tank.domain'][0]\n",
    "nodes = archive.getNode(\"/nodesSpatial_Domain0\")\n",
    "x=nodes[:,0]\n",
    "y=nodes[:,1]\n",
    "elements = archive.getNode(\"/elementsSpatial_Domain0\")\n",
    "triang = mtri.Triangulation(x, y, elements)\n",
    "xg = np.linspace(0, domain.L[0], 20)\n",
    "yg = np.linspace(0, domain.L[1], 20)\n",
    "xi, yi = np.meshgrid(xg,yg)\n",
    "plt.figure()\n",
    "for it,t in enumerate(view['tank_so.tnList'][0][2:]):\n",
    "    phi = archive.getNode(\"/phi_t\"+`it`)\n",
    "    vof = archive.getNode(\"/vof_t\"+`it`)\n",
    "    wvof = np.ones(vof.shape,'d')\n",
    "    wvof -= vof\n",
    "    u = archive.getNode(\"/u_t\"+`it`)\n",
    "    v = archive.getNode(\"/v_t\"+`it`)\n",
    "    plt.clf()\n",
    "    plt.xlabel(r'z[m]')\n",
    "    plt.ylabel(r'x[m]')\n",
    "    colors = ['b','g','r','c','m','y','k','w']\n",
    "    plt.xlim(domain.x[0]-0.1*domain.L[0],domain.x[0]+domain.L[0]+0.1*domain.L[0])    \n",
    "    for si,s in enumerate(domain.segments):\n",
    "        plt.plot([domain.vertices[s[0]][0],\n",
    "                     domain.vertices[s[1]][0]],\n",
    "                    [domain.vertices[s[0]][1],\n",
    "                     domain.vertices[s[1]][1]],\n",
    "                    color=colors[domain.segmentFlags[si]-1],\n",
    "                    linewidth=2,\n",
    "                    marker='o')\n",
    "    plt.tricontourf(x,y,elements,wvof*np.sqrt(u[:]**2 + v[:]**2))\n",
    "    plt.tricontour(x,y,elements,phi,[0], linewidth=4)\n",
    "    u_interp_lin = mtri.LinearTriInterpolator(triang, u[:])\n",
    "    v_interp_lin = mtri.LinearTriInterpolator(triang, v[:])\n",
    "    u_lin = u_interp_lin(xi, yi)\n",
    "    v_lin = v_interp_lin(xi, yi)\n",
    "    plt.streamplot(xg, yg, u_lin, v_lin,color='k')\n",
    "    plt.title('T=%2.2f' % (t,))\n",
    "    plt.axis('equal')\n",
    "    plt.xlim((0,domain.L[0]))\n",
    "    plt.savefig('phi%4.4d.png' % (it,))"
   ]
  },
  {
   "cell_type": "code",
   "execution_count": null,
   "metadata": {
    "collapsed": false,
    "slideshow": {
     "slide_type": "slide"
    }
   },
   "outputs": [],
   "source": [
    "!rm tankPhi.mp4; ffmpeg -i phi%4d.png -vcodec libx264 tankPhi.mp4"
   ]
  },
  {
   "cell_type": "code",
   "execution_count": null,
   "metadata": {
    "collapsed": false,
    "slideshow": {
     "slide_type": "slide"
    }
   },
   "outputs": [],
   "source": [
    "from IPython.core.display import HTML\n",
    "data_uri_mp4 = open(\"tankPhi.mp4\", \"rb\").read().encode(\"base64\").replace(\"\\n\", \"\")\n",
    "video_tag = \"\"\"<video controls>\n",
    "<source type =\"video/mp4\" src=\"data:video/mp4;base64,{mp4}\"/>\n",
    "Your browser does not support the video tag\n",
    "</video>\"\"\".format(mp4=data_uri_mp4)\n",
    "HTML(data=video_tag)"
   ]
  },
  {
   "cell_type": "code",
   "execution_count": null,
   "metadata": {
    "collapsed": false,
    "slideshow": {
     "slide_type": "slide"
    }
   },
   "outputs": [],
   "source": [
    "from IPython.display import FileLink,FileLinks\n",
    "FileLink('tankPhi.mp4')"
   ]
  },
  {
   "cell_type": "code",
   "execution_count": null,
   "metadata": {
    "collapsed": true
   },
   "outputs": [],
   "source": []
  }
 ],
 "metadata": {
  "kernelspec": {
   "display_name": "Python 2",
   "language": "python",
   "name": "python2"
  },
  "language_info": {
   "codemirror_mode": {
    "name": "ipython",
    "version": 2
   },
   "file_extension": ".py",
   "mimetype": "text/x-python",
   "name": "python",
   "nbconvert_exporter": "python",
   "pygments_lexer": "ipython2",
   "version": "2.7.11"
  }
 },
 "nbformat": 4,
 "nbformat_minor": 0
}
